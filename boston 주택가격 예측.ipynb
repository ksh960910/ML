{
 "cells": [
  {
   "cell_type": "markdown",
   "id": "homeless-assistant",
   "metadata": {},
   "source": [
    "1. load_boston 데이터셋에서 data, target부분 나눠서 데이터프레임 만들기\n",
    "2. train set, test set 분리\n",
    "3. Pipeline을 이용해 다항회귀, 선형회귀 만들고 fit, predict\n",
    "4. 평가된 모델의 mse,rmse, r2 score 확인"
   ]
  },
  {
   "cell_type": "code",
   "execution_count": 5,
   "id": "infinite-fitting",
   "metadata": {
    "scrolled": true
   },
   "outputs": [
    {
     "name": "stdout",
     "output_type": "stream",
     "text": [
      "MSE :  15.3887, RMSE :  3.9228\n",
      "R2 score :  0.8316\n"
     ]
    }
   ],
   "source": [
    "from sklearn.datasets import load_boston\n",
    "from sklearn.model_selection import train_test_split\n",
    "from sklearn.linear_model import LinearRegression\n",
    "from sklearn.metrics import mean_squared_error, r2_score\n",
    "from sklearn.preprocessing import PolynomialFeatures\n",
    "from sklearn.pipeline import Pipeline\n",
    "import numpy as np\n",
    "import pandas as pd\n",
    "\n",
    "boston = load_boston()\n",
    "df = pd.DataFrame(boston.data, columns = boston.feature_names)\n",
    "\n",
    "df['Price'] = boston.target\n",
    "X_data = df.drop('Price', axis=1)\n",
    "y_target = df['Price']\n",
    "\n",
    "X_train, X_test, y_train, y_test = train_test_split(X_data, y_target,\n",
    "                                                   test_size=0.3,\n",
    "                                                   random_state=11)\n",
    "\n",
    "model = Pipeline([('poly' , PolynomialFeatures(degree=2, include_bias=False)),\n",
    "                  ('linear', LinearRegression())])\n",
    "\n",
    "model.fit(X_train, y_train)\n",
    "pred = model.predict(X_test)\n",
    "mse = mean_squared_error(y_test, pred)\n",
    "rmse = np.sqrt(mse)\n",
    "\n",
    "print(f'MSE : {mse : .4f}, RMSE : {rmse : .4f}')\n",
    "print(f'R2 score : {r2_score(y_test, pred) : .4f}')"
   ]
  },
  {
   "cell_type": "markdown",
   "id": "dangerous-agent",
   "metadata": {},
   "source": [
    "### get_scaled_data(method=None, p_degree, df)\n",
    "- input으로 들어온 scaling 방법을 적용해 fit_transform\n",
    "- input으로 p_degree가 들어오면 polynomialFeatures 변환"
   ]
  },
  {
   "cell_type": "code",
   "execution_count": 9,
   "id": "applicable-anniversary",
   "metadata": {},
   "outputs": [],
   "source": [
    "from sklearn.preprocessing import StandardScaler, MinMaxScaler, PolynomialFeatures\n",
    "\n",
    "def get_scaled_data(method=None, p_degree = None, df=None):\n",
    "    if method == 'Standard':\n",
    "        scaled_data = StandardScaler().fit_transform(df)\n",
    "    elif method =='MinMax':\n",
    "        scaled_data = MinMaxScaler().fit_transform(df)\n",
    "    elif method =='Log':\n",
    "        scaled_data = np.log1p(df)\n",
    "    else:\n",
    "        scaled_data = df\n",
    "        \n",
    "    if p_degree!=None:\n",
    "        scaled_data = PolynomialFeatures(degree=p_degree, include_bias=False).fit_transform(df)\n",
    "        \n",
    "    return scaled_data"
   ]
  },
  {
   "cell_type": "markdown",
   "id": "processed-darkness",
   "metadata": {},
   "source": [
    "### get_linear_reg_eval(model_name, params, X_data, y_target, verbose=True)\n",
    "- 배열형태로 들어오는 params 각각 원소마다 input으로 받은 model_name에 맞는 규제방법에 alpha값을 적용\n",
    "- cross_val_score을 통해 neg_mse_score, avg_rmse를 구함\n",
    "- 결과를 데이터 프레임 형태로 보기위해 fit을 한후, model.coef_(회귀계수)를 데이터프레임에 data로, 인덱스에는 해당하는 feature명을 넣어줌"
   ]
  },
  {
   "cell_type": "code",
   "execution_count": 10,
   "id": "gorgeous-bolivia",
   "metadata": {},
   "outputs": [],
   "source": [
    "from sklearn.linear_model import Ridge, Lasso, ElasticNet\n",
    "from sklearn.model_selection import cross_val_score\n",
    "\n",
    "def get_linear_reg_eval(model_name, params=None, X_data_n=None, y_target_n=None, verbose=True):\n",
    "    eval_df = pd.DataFrame()\n",
    "    if verbose:\n",
    "        print('###### ', model_name, '######')\n",
    "    for param in params:\n",
    "        if model_name=='Ridge': model=Ridge(alpha=param)\n",
    "        elif model_name=='Lasso' : model=Lasso(alpha=param)\n",
    "        elif model_name=='ElasticNet' : model=ElasticNet(alpha=param, l1_ratio=0.7)\n",
    "        neg_mse_scores = cross_val_score(model, X_data_n, y_target_n, \n",
    "                                        scoring=\"neg_mean_squared_error\", cv=5)\n",
    "        avg_rmse = np.mean(np.sqrt(-1 * neg_mse_scores))\n",
    "        print(f'alpha : {param}일 때 5 폴드 세트의 평균 RMSE : {avg_rmse : .3f}')\n",
    "        \n",
    "        model.fit(X_data, y_target)\n",
    "        evals = pd.Series(data=model.coef_, index=X_data.columns)\n",
    "        colname = 'alpha: ' + str(param)\n",
    "        eval_df[colname] = evals\n",
    "    return eval_df"
   ]
  },
  {
   "cell_type": "markdown",
   "id": "collaborative-transfer",
   "metadata": {},
   "source": [
    "### 평가\n",
    "- scale_methods에 원하는 scaling과 polynomial 변환 셋을 설정\n",
    "- X_data_scaled에 scale_methods 각각 원소를 scaling함\n",
    "- scale된 데이터를 Ridge규제로 각 alpha값들에 대하여 평가 확인"
   ]
  },
  {
   "cell_type": "code",
   "execution_count": 11,
   "id": "potential-madagascar",
   "metadata": {},
   "outputs": [
    {
     "name": "stdout",
     "output_type": "stream",
     "text": [
      "\n",
      "## 변환 유형 : None, Polynomial Degree : None\n",
      "alpha : 0.1일 때 5 폴드 세트의 평균 RMSE :  5.788\n",
      "alpha : 1일 때 5 폴드 세트의 평균 RMSE :  5.653\n",
      "alpha : 10일 때 5 폴드 세트의 평균 RMSE :  5.518\n",
      "alpha : 100일 때 5 폴드 세트의 평균 RMSE :  5.330\n",
      "\n",
      "## 변환 유형 : Standard, Polynomial Degree : None\n",
      "alpha : 0.1일 때 5 폴드 세트의 평균 RMSE :  5.826\n",
      "alpha : 1일 때 5 폴드 세트의 평균 RMSE :  5.803\n",
      "alpha : 10일 때 5 폴드 세트의 평균 RMSE :  5.637\n",
      "alpha : 100일 때 5 폴드 세트의 평균 RMSE :  5.421\n",
      "\n",
      "## 변환 유형 : Standard, Polynomial Degree : 2\n",
      "alpha : 0.1일 때 5 폴드 세트의 평균 RMSE :  9.141\n",
      "alpha : 1일 때 5 폴드 세트의 평균 RMSE :  8.938\n",
      "alpha : 10일 때 5 폴드 세트의 평균 RMSE :  10.556\n",
      "alpha : 100일 때 5 폴드 세트의 평균 RMSE :  10.566\n",
      "\n",
      "## 변환 유형 : MinMax, Polynomial Degree : None\n",
      "alpha : 0.1일 때 5 폴드 세트의 평균 RMSE :  5.764\n",
      "alpha : 1일 때 5 폴드 세트의 평균 RMSE :  5.465\n",
      "alpha : 10일 때 5 폴드 세트의 평균 RMSE :  5.754\n",
      "alpha : 100일 때 5 폴드 세트의 평균 RMSE :  7.635\n",
      "\n",
      "## 변환 유형 : MinMax, Polynomial Degree : 2\n",
      "alpha : 0.1일 때 5 폴드 세트의 평균 RMSE :  9.141\n",
      "alpha : 1일 때 5 폴드 세트의 평균 RMSE :  8.938\n",
      "alpha : 10일 때 5 폴드 세트의 평균 RMSE :  10.556\n",
      "alpha : 100일 때 5 폴드 세트의 평균 RMSE :  10.566\n",
      "\n",
      "## 변환 유형 : Log, Polynomial Degree : None\n",
      "alpha : 0.1일 때 5 폴드 세트의 평균 RMSE :  4.770\n",
      "alpha : 1일 때 5 폴드 세트의 평균 RMSE :  4.676\n",
      "alpha : 10일 때 5 폴드 세트의 평균 RMSE :  4.836\n",
      "alpha : 100일 때 5 폴드 세트의 평균 RMSE :  6.241\n"
     ]
    }
   ],
   "source": [
    "alphas = [0.1, 1, 10, 100]\n",
    "scale_methods = [(None, None), ('Standard', None), ('Standard', 2),\n",
    "               ('MinMax', None), ('MinMax' ,2), ('Log',None)]\n",
    "for scale_method in scale_methods:\n",
    "    X_data_scaled = get_scaled_data(method=scale_method[0], p_degree=scale_method[1],\n",
    "                                   df=X_data)\n",
    "    print('\\n## 변환 유형 : {0}, Polynomial Degree : {1}'.format(scale_method[0], scale_method[1]))\n",
    "    get_linear_reg_eval('Ridge', params=alphas, X_data_n=X_data_scaled, y_target_n=y_target, verbose=False)"
   ]
  }
 ],
 "metadata": {
  "kernelspec": {
   "display_name": "Python 3",
   "language": "python",
   "name": "python3"
  },
  "language_info": {
   "codemirror_mode": {
    "name": "ipython",
    "version": 3
   },
   "file_extension": ".py",
   "mimetype": "text/x-python",
   "name": "python",
   "nbconvert_exporter": "python",
   "pygments_lexer": "ipython3",
   "version": "3.8.8"
  }
 },
 "nbformat": 4,
 "nbformat_minor": 5
}
