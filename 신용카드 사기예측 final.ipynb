{
 "cells": [
  {
   "cell_type": "code",
   "execution_count": 66,
   "id": "colored-inflation",
   "metadata": {},
   "outputs": [],
   "source": [
    "import pandas as pd\n",
    "import numpy as np\n",
    "import matplotlib.pyplot as plt\n",
    "import seaborn as sns\n",
    "from sklearn.linear_model import LogisticRegression\n",
    "from lightgbm import LGBMClassifier\n",
    "from sklearn.model_selection import KFold, cross_val_score\n",
    "from sklearn.model_selection import train_test_split\n",
    "from sklearn.preprocessing import RobustScaler\n",
    "from sklearn.metrics import accuracy_score, precision_score, recall_score, f1_score, roc_auc_score"
   ]
  },
  {
   "cell_type": "code",
   "execution_count": 24,
   "id": "practical-detroit",
   "metadata": {},
   "outputs": [
    {
     "data": {
      "text/plain": [
       "(284807, 31)"
      ]
     },
     "execution_count": 24,
     "metadata": {},
     "output_type": "execute_result"
    }
   ],
   "source": [
    "df = pd.read_csv('credit_card_fraud_dataset/creditcard.csv')\n",
    "df.shape"
   ]
  },
  {
   "cell_type": "markdown",
   "id": "fossil-period",
   "metadata": {},
   "source": [
    "# 데이터 가공 없음"
   ]
  },
  {
   "cell_type": "code",
   "execution_count": 9,
   "id": "asian-dynamics",
   "metadata": {},
   "outputs": [
    {
     "name": "stderr",
     "output_type": "stream",
     "text": [
      "C:\\Users\\user\\anaconda3\\lib\\site-packages\\sklearn\\linear_model\\_logistic.py:763: ConvergenceWarning: lbfgs failed to converge (status=1):\n",
      "STOP: TOTAL NO. of ITERATIONS REACHED LIMIT.\n",
      "\n",
      "Increase the number of iterations (max_iter) or scale the data as shown in:\n",
      "    https://scikit-learn.org/stable/modules/preprocessing.html\n",
      "Please also refer to the documentation for alternative solver options:\n",
      "    https://scikit-learn.org/stable/modules/linear_model.html#logistic-regression\n",
      "  n_iter_i = _check_optimize_result(\n"
     ]
    },
    {
     "name": "stdout",
     "output_type": "stream",
     "text": [
      "LogisticRegression 평가지표\n",
      "정확도 :  0.9989 \n",
      "정밀도 :  0.6731 \n",
      "재현율 :  0.7143 \n",
      "F1 :  0.6931 \n",
      "AUC :  0.9255\n",
      "LGBM 평가지표\n",
      "정확도 :  0.9997 \n",
      "정밀도 :  0.9765 \n",
      "재현율 :  0.8469 \n",
      "F1 :  0.9071 \n",
      "AUC :  0.9798\n"
     ]
    }
   ],
   "source": [
    "X_data = df.iloc[:,:-1]\n",
    "y_target = df.iloc[:,-1]\n",
    "\n",
    "X_train, X_test, y_train, y_test = train_test_split(X_data,y_target,\n",
    "                                                       test_size=0.2,\n",
    "                                                       random_state=11,\n",
    "                                                       stratify=y_target)\n",
    "\n",
    "lr_clf = LogisticRegression()\n",
    "lgbm_clf = LGBMClassifier(n_estimators=1000, num_leaves=64, n_jobs=-1, boost_from_average=False)\n",
    "\n",
    "lr_clf.fit(X_train, y_train)\n",
    "lgbm_clf.fit(X_train, y_train)\n",
    "\n",
    "lr_pred = lr_clf.predict(X_test)\n",
    "lgbm_pred = lgbm_clf.predict(X_test)\n",
    "\n",
    "def get_eval_score(y_test, pred=None, pred_proba=None):\n",
    "    accuracy = accuracy_score(y_test, pred)\n",
    "    precision = precision_score(y_test, pred)\n",
    "    recall = recall_score(y_test, pred)\n",
    "    f1 = f1_score(y_test, pred)\n",
    "    auc = roc_auc_score(y_test, pred_proba)\n",
    "    print(f'정확도 : {accuracy : .4f} \\n정밀도 : {precision : .4f} \\n재현율 : {recall : .4f} \\nF1 : {f1 : .4f} \\nAUC : {auc : .4f}')\n",
    "    \n",
    "print('LogisticRegression 평가지표')\n",
    "get_eval_score(y_test, pred=lr_pred, pred_proba = lr_clf.predict_proba(X_test)[:,1])\n",
    "print('LGBM 평가지표')\n",
    "get_eval_score(y_test, pred=lgbm_pred, pred_proba = lgbm_clf.predict_proba(X_test)[:,1])"
   ]
  },
  {
   "cell_type": "markdown",
   "id": "devoted-enlargement",
   "metadata": {},
   "source": [
    "# log 변환"
   ]
  },
  {
   "cell_type": "code",
   "execution_count": 10,
   "id": "liked-branch",
   "metadata": {},
   "outputs": [],
   "source": [
    "def fit_eval(model, xtrain=None, xtest=None, ytrain=None, ytest=None):\n",
    "    model.fit(xtrain, ytrain)\n",
    "    pred = model.predict(xtest)\n",
    "    pred_proba = model.predict_proba(xtest)[:,1]\n",
    "    get_eval_score(ytest,pred, pred_proba)"
   ]
  },
  {
   "cell_type": "code",
   "execution_count": 12,
   "id": "electrical-health",
   "metadata": {},
   "outputs": [],
   "source": [
    "def preprocess_df(df=None):\n",
    "    df_copy = df.copy()\n",
    "    amount = np.log1p(df_copy['Amount'])\n",
    "    df_copy.insert(0, 'Amount_Scaled', amount)\n",
    "    df_copy.drop(['Time','Amount'], axis=1, inplace=True)\n",
    "    return df_copy"
   ]
  },
  {
   "cell_type": "code",
   "execution_count": 46,
   "id": "paperback-gather",
   "metadata": {},
   "outputs": [],
   "source": [
    "def split_data(df=None):\n",
    "    df_copy = preprocess_df(df)\n",
    "    X_data = df_copy.iloc[:,:-1]\n",
    "    y_target = df_copy.iloc[:, -1]\n",
    "    \n",
    "    X_train, X_test, y_train, y_test = train_test_split(X_data, y_target,\n",
    "                                                       test_size=0.2,\n",
    "                                                       random_state=11,\n",
    "                                                       stratify=y_target)\n",
    "    return X_train, X_test, y_train, y_test"
   ]
  },
  {
   "cell_type": "code",
   "execution_count": 14,
   "id": "foster-hypothesis",
   "metadata": {},
   "outputs": [
    {
     "name": "stdout",
     "output_type": "stream",
     "text": [
      "LogisticRegression 평가 지표\n",
      "정확도 :  0.9992 \n",
      "정밀도 :  0.8611 \n",
      "재현율 :  0.6327 \n",
      "F1 :  0.7294 \n",
      "AUC :  0.9710\n",
      "LGBM 평가 지표\n",
      "정확도 :  0.9997 \n",
      "정밀도 :  0.9651 \n",
      "재현율 :  0.8469 \n",
      "F1 :  0.9022 \n",
      "AUC :  0.9804\n"
     ]
    }
   ],
   "source": [
    "X_train, X_test, y_train, y_test = split_data(df)\n",
    "print('LogisticRegression 평가 지표')\n",
    "fit_eval(lr_clf, xtrain=X_train, xtest=X_test, ytrain=y_train, ytest=y_test)\n",
    "print('LGBM 평가 지표')\n",
    "fit_eval(lgbm_clf, xtrain=X_train, xtest=X_test, ytrain=y_train, ytest=y_test)"
   ]
  },
  {
   "cell_type": "markdown",
   "id": "chief-guest",
   "metadata": {},
   "source": [
    "# log변환, 이상치 제거\n",
    "\n",
    "### seaborn cmap의 color palette 선정 기준\n",
    "- sequential palette (ex : RdPu)\n",
    " - 밝은 색~어두운색까지 연속적으로 나타남. \n",
    " - Ranking 같은 데이터에 사용하면 높은값이 강조되며 사용하기 좋다\n",
    "\n",
    "- diverging palette (ex : RdBu)\n",
    " - 양쪽으로 강조가 됨\n",
    " - 낮은값, 높은 값 모두 봐야하는 데이터 셋에 사용하기 좋다\n"
   ]
  },
  {
   "cell_type": "code",
   "execution_count": 17,
   "id": "former-jacksonville",
   "metadata": {},
   "outputs": [
    {
     "data": {
      "text/plain": [
       "<AxesSubplot:>"
      ]
     },
     "execution_count": 17,
     "metadata": {},
     "output_type": "execute_result"
    },
    {
     "data": {
      "image/png": "[encoded data removed]",
      "text/plain": [
       "<Figure size 720x720 with 2 Axes>"
      ]
     },
     "metadata": {
      "needs_background": "light"
     },
     "output_type": "display_data"
    }
   ],
   "source": [
    "plt.figure(figsize=(10,10))\n",
    "sns.heatmap(df.corr(), cmap='RdBu')"
   ]
  },
  {
   "cell_type": "code",
   "execution_count": 62,
   "id": "duplicate-ground",
   "metadata": {},
   "outputs": [],
   "source": [
    "def get_outlier(df, column=None):\n",
    "    fraud = df[df['Class']==1][column]\n",
    "    quantile_25 = np.percentile(fraud.values, 25)\n",
    "    quantile_75 = np.percentile(fraud.values, 75)\n",
    "    \n",
    "    iqr = quantile_75 - quantile_25\n",
    "    iqr_weight = iqr * 1.5\n",
    "    lowest_val = quantile_25 - iqr_weight\n",
    "    highest_val = quantile_75 + iqr_weight\n",
    "    \n",
    "    outlier = fraud[(fraud < lowest_val) | (fraud>highest_val)].index\n",
    "    \n",
    "    return outlier"
   ]
  },
  {
   "cell_type": "code",
   "execution_count": 63,
   "id": "jewish-taste",
   "metadata": {},
   "outputs": [],
   "source": [
    "def preprocess_df(df=None):\n",
    "    df_copy = df.copy()\n",
    "    amount = np.log1p(df_copy['Amount'])\n",
    "    df_copy.insert(0, 'Amount_Scaled', amount)\n",
    "    df_copy.drop(['Time','Amount'], axis=1, inplace=True)\n",
    "    \n",
    "    outlier_12 = get_outlier(df_copy, column='V12')\n",
    "    df_copy.drop(outlier_12, axis=0, inplace=True)\n",
    "\n",
    "    return df_copy"
   ]
  },
  {
   "cell_type": "code",
   "execution_count": 64,
   "id": "consistent-fisher",
   "metadata": {},
   "outputs": [
    {
     "name": "stdout",
     "output_type": "stream",
     "text": [
      "LogisticRegression 평가 지표\n",
      "정확도 :  0.9991 \n",
      "정밀도 :  0.8406 \n",
      "재현율 :  0.5979 \n",
      "F1 :  0.6988 \n",
      "AUC :  0.9656\n",
      "LGBM 평가 지표\n",
      "정확도 :  0.9996 \n",
      "정밀도 :  0.9747 \n",
      "재현율 :  0.7938 \n",
      "F1 :  0.8750 \n",
      "AUC :  0.9635\n"
     ]
    }
   ],
   "source": [
    "lr_clf = LogisticRegression()\n",
    "lgbm_clf = LGBMClassifier(n_estimators=1000, num_leaves=64, n_jobs=-1, boost_from_average=False)\n",
    "\n",
    "X_train, X_test, y_train, y_test = split_data(df)\n",
    "print('LogisticRegression 평가 지표')\n",
    "fit_eval(lr_clf, xtrain=X_train, xtest=X_test, ytrain=y_train, ytest=y_test)\n",
    "print('LGBM 평가 지표')\n",
    "fit_eval(lgbm_clf, xtrain=X_train, xtest=X_test, ytrain=y_train, ytest=y_test)"
   ]
  },
  {
   "cell_type": "markdown",
   "id": "sensitive-thomas",
   "metadata": {},
   "source": [
    "# SMOTE 오버 샘플링 적용"
   ]
  },
  {
   "cell_type": "code",
   "execution_count": 56,
   "id": "thorough-beatles",
   "metadata": {},
   "outputs": [
    {
     "name": "stdout",
     "output_type": "stream",
     "text": [
      "0    227451\n",
      "1    227451\n",
      "Name: Class, dtype: int64\n"
     ]
    }
   ],
   "source": [
    "from imblearn.over_sampling import SMOTE\n",
    "\n",
    "smote = SMOTE(random_state=23)\n",
    "X_train_over, y_train_over = smote.fit_resample(X_train, y_train)\n",
    "print(pd.Series(y_train_over).value_counts())"
   ]
  },
  {
   "cell_type": "code",
   "execution_count": 67,
   "id": "about-tribe",
   "metadata": {},
   "outputs": [],
   "source": [
    "def preprocess_df(df=None):\n",
    "    df_copy = df.copy()\n",
    "    scaler = RobustScaler()\n",
    "    amount = scaler.fit_transform(df_copy['Amount'].values.reshape(-1,1))\n",
    "    df_copy.insert(0, 'Amount_Scaled', amount)\n",
    "    df_copy.drop(['Time','Amount'], axis=1, inplace=True)\n",
    "    \n",
    "    outlier_12 = get_outlier(df_copy, column='V12')\n",
    "    df_copy.drop(outlier_12, axis=0, inplace=True)\n",
    "\n",
    "    return df_copy"
   ]
  },
  {
   "cell_type": "code",
   "execution_count": 68,
   "id": "taken-marsh",
   "metadata": {},
   "outputs": [
    {
     "name": "stdout",
     "output_type": "stream",
     "text": [
      "정확도 :  0.9995 \n",
      "정밀도 :  0.9070 \n",
      "재현율 :  0.8041 \n",
      "F1 :  0.8525 \n",
      "AUC :  0.9671\n"
     ]
    }
   ],
   "source": [
    "fit_eval(lgbm_clf, xtrain=X_train_over, xtest=X_test, ytrain=y_train_over, ytest=y_test)"
   ]
  },
  {
   "cell_type": "code",
   "execution_count": null,
   "id": "legal-energy",
   "metadata": {},
   "outputs": [],
   "source": []
  },
  {
   "cell_type": "code",
   "execution_count": null,
   "id": "clean-hypothetical",
   "metadata": {},
   "outputs": [],
   "source": []
  }
 ],
 "metadata": {
  "kernelspec": {
   "display_name": "Python 3",
   "language": "python",
   "name": "python3"
  },
  "language_info": {
   "codemirror_mode": {
    "name": "ipython",
    "version": 3
   },
   "file_extension": ".py",
   "mimetype": "text/x-python",
   "name": "python",
   "nbconvert_exporter": "python",
   "pygments_lexer": "ipython3",
   "version": "3.8.8"
  }
 },
 "nbformat": 4,
 "nbformat_minor": 5
}
