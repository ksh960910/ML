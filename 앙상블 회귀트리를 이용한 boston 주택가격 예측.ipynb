{
 "cells": [
  {
   "cell_type": "code",
   "execution_count": 3,
   "id": "excited-mauritius",
   "metadata": {},
   "outputs": [
    {
     "name": "stdout",
     "output_type": "stream",
     "text": [
      "5fold 교차검증 negative mse :  [ -7.91 -13.01 -21.02 -46.1  -19.18]\n",
      "5fold 교차검증 rmse :  [2.81 3.61 4.59 6.79 4.38]\n",
      "5fold 교차검증 평균 rmse :  4.434970587974166\n"
     ]
    }
   ],
   "source": [
    "from sklearn.datasets import load_boston\n",
    "from sklearn.model_selection import cross_val_score\n",
    "from sklearn.ensemble import RandomForestRegressor\n",
    "import pandas as pd\n",
    "import numpy as np\n",
    "\n",
    "boston = load_boston()\n",
    "df = pd.DataFrame(boston.data, columns=boston.feature_names)\n",
    "df['price'] = boston.target\n",
    "\n",
    "X_data = df.drop('price', axis=1)\n",
    "y_target = df['price']\n",
    "\n",
    "rf = RandomForestRegressor(n_estimators=1000, random_state=11)\n",
    "neg_mse_scores = cross_val_score(rf, X_data, y_target,\n",
    "                                scoring='neg_mean_squared_error', cv=5)\n",
    "rmse_scores = np.sqrt(-1 * neg_mse_scores)\n",
    "avg_rmse = np.mean(rmse_scores)\n",
    "\n",
    "print('5fold 교차검증 negative mse : ', np.round(neg_mse_scores, 2))\n",
    "print('5fold 교차검증 rmse : ', np.round(rmse_scores, 2))\n",
    "print('5fold 교차검증 평균 rmse : ', avg_rmse)\n"
   ]
  },
  {
   "cell_type": "code",
   "execution_count": 7,
   "id": "political-alabama",
   "metadata": {},
   "outputs": [],
   "source": [
    "def get_cv_score(model, X_data, y_target):\n",
    "    neg_mse_scores = cross_val_score(model, X_data, y_target, \n",
    "                                    scoring='neg_mean_squared_error', cv=5)\n",
    "    rmse_scores = np.sqrt(-1 * neg_mse_scores)\n",
    "    avg_rmse = np.mean(rmse_scores)\n",
    "    print('######', model.__class__.__name__, '######')\n",
    "    print(f'5fold 교차검증 평균 RMSE : {avg_rmse : .3f}')"
   ]
  },
  {
   "cell_type": "markdown",
   "id": "significant-submission",
   "metadata": {},
   "source": [
    "### (참조) 클래스 이름과 클래스에 속한 변수명 불러오기"
   ]
  },
  {
   "cell_type": "code",
   "execution_count": 6,
   "id": "lasting-rochester",
   "metadata": {},
   "outputs": [
    {
     "name": "stdout",
     "output_type": "stream",
     "text": [
      "<class 'sklearn.ensemble._forest.RandomForestRegressor'>\n",
      "RandomForestRegressor\n"
     ]
    }
   ],
   "source": [
    "print(rf.__class__)\n",
    "print(rf.__class__.__name__)"
   ]
  },
  {
   "cell_type": "markdown",
   "id": "several-essence",
   "metadata": {},
   "source": [
    "### 다른 회귀트리 클래스들 간의 예측 성능 비교"
   ]
  },
  {
   "cell_type": "code",
   "execution_count": 8,
   "id": "coordinated-ending",
   "metadata": {},
   "outputs": [
    {
     "name": "stdout",
     "output_type": "stream",
     "text": [
      "###### DecisionTreeRegressor ######\n",
      "5fold 교차검증 평균 RMSE :  6.041\n",
      "###### RandomForestRegressor ######\n",
      "5fold 교차검증 평균 RMSE :  4.435\n",
      "###### GradientBoostingRegressor ######\n",
      "5fold 교차검증 평균 RMSE :  4.227\n",
      "###### LGBMRegressor ######\n",
      "5fold 교차검증 평균 RMSE :  4.646\n"
     ]
    }
   ],
   "source": [
    "from sklearn.tree import DecisionTreeRegressor\n",
    "from sklearn.ensemble import GradientBoostingRegressor\n",
    "from lightgbm import LGBMRegressor\n",
    "\n",
    "dt_reg = DecisionTreeRegressor(max_depth=4, random_state=11)\n",
    "rf_reg = RandomForestRegressor(n_estimators=1000, random_state=11)\n",
    "gb_reg = GradientBoostingRegressor(n_estimators=1000, random_state=11)\n",
    "lgb_reg = LGBMRegressor(n_estimators=1000)\n",
    "\n",
    "models = [dt_reg, rf_reg, gb_reg, lgb_reg]\n",
    "for model in models:\n",
    "    get_cv_score(model, X_data, y_target)"
   ]
  },
  {
   "cell_type": "markdown",
   "id": "prerequisite-school",
   "metadata": {},
   "source": [
    "#### 회귀 트리는 트리이기때문에 회귀 계수가 없고, feature importance로 상대적 중요도 파악가능"
   ]
  },
  {
   "cell_type": "code",
   "execution_count": 11,
   "id": "precious-circumstances",
   "metadata": {},
   "outputs": [
    {
     "data": {
      "text/plain": [
       "<AxesSubplot:>"
      ]
     },
     "execution_count": 11,
     "metadata": {},
     "output_type": "execute_result"
    },
    {
     "data": {
      "image/png": "[encoded data removed]",
      "text/plain": [
       "<Figure size 432x288 with 1 Axes>"
      ]
     },
     "metadata": {
      "needs_background": "light"
     },
     "output_type": "display_data"
    }
   ],
   "source": [
    "import seaborn as sns\n",
    "%matplotlib inline\n",
    "\n",
    "rf_reg.fit(X_data, y_target)\n",
    "feature_series = pd.Series(data=rf_reg.feature_importances_, index=X_data.columns)\n",
    "feature_series = feature_series.sort_values(ascending=False)\n",
    "sns.barplot(x= feature_series, y=feature_series.index)"
   ]
  },
  {
   "cell_type": "markdown",
   "id": "numerical-premises",
   "metadata": {},
   "source": [
    "### overfitting 시각화해보기\n",
    "- dataframe에 sample 메소드를 활용하면 알아서 sampling해줌"
   ]
  },
  {
   "cell_type": "code",
   "execution_count": 14,
   "id": "boolean-hybrid",
   "metadata": {},
   "outputs": [
    {
     "name": "stdout",
     "output_type": "stream",
     "text": [
      "(100, 2)\n"
     ]
    },
    {
     "data": {
      "text/plain": [
       "<matplotlib.collections.PathCollection at 0x1c9eeabef40>"
      ]
     },
     "execution_count": 14,
     "metadata": {},
     "output_type": "execute_result"
    },
    {
     "data": {
      "image/png": "[encoded data removed]",
      "text/plain": [
       "<Figure size 432x288 with 1 Axes>"
      ]
     },
     "metadata": {
      "needs_background": "light"
     },
     "output_type": "display_data"
    }
   ],
   "source": [
    "import matplotlib.pyplot as plt\n",
    "%matplotlib inline\n",
    "\n",
    "df_rm = df[['RM','price']]\n",
    "df_rm = df_rm.sample(n=100, random_state=11)\n",
    "print(df_rm.shape)\n",
    "plt.figure()\n",
    "plt.scatter(df_rm.RM, df_rm.price, c='darkorange')"
   ]
  },
  {
   "cell_type": "code",
   "execution_count": 19,
   "id": "educated-south",
   "metadata": {},
   "outputs": [
    {
     "name": "stderr",
     "output_type": "stream",
     "text": [
      "<ipython-input-19-f529a8725317>:14: DataConversionWarning: A column-vector y was passed when a 1d array was expected. Please change the shape of y to (n_samples,), for example using ravel().\n",
      "  rf_reg2.fit(X_data, y_target)\n",
      "<ipython-input-19-f529a8725317>:15: DataConversionWarning: A column-vector y was passed when a 1d array was expected. Please change the shape of y to (n_samples,), for example using ravel().\n",
      "  rf_reg7.fit(X_data, y_target)\n"
     ]
    }
   ],
   "source": [
    "from sklearn.linear_model import LinearRegression\n",
    "\n",
    "lr_reg = LinearRegression()\n",
    "rf_reg2 = RandomForestRegressor(max_depth=2)\n",
    "rf_reg7 = RandomForestRegressor(max_depth=7)\n",
    "\n",
    "# 예측을 적용할 임의의 테스트셋을 만들기 위해 4.5~8.5까지 100개의 데이터를 만듦\n",
    "X_test = np.arange(4.5, 8.5, 0.04).reshape(-1,1)\n",
    "\n",
    "X_data = df_rm['RM'].values.reshape(-1,1)\n",
    "y_target = df_rm['price'].values.reshape(-1,1)\n",
    "\n",
    "lr_reg.fit(X_data, y_target)\n",
    "rf_reg2.fit(X_data, y_target)\n",
    "rf_reg7.fit(X_data, y_target)\n",
    "\n",
    "pred_lr = lr_reg.predict(X_test)\n",
    "pred_rf2 = rf_reg2.predict(X_test)\n",
    "pred_rf7 = rf_reg7.predict(X_test)"
   ]
  },
  {
   "cell_type": "code",
   "execution_count": 23,
   "id": "potential-aluminum",
   "metadata": {},
   "outputs": [
    {
     "data": {
      "text/plain": [
       "[<matplotlib.lines.Line2D at 0x1c9ef44a190>]"
      ]
     },
     "execution_count": 23,
     "metadata": {},
     "output_type": "execute_result"
    },
    {
     "data": {
      "image/png": "[encoded data removed]",
      "text/plain": [
       "<Figure size 1008x288 with 3 Axes>"
      ]
     },
     "metadata": {
      "needs_background": "light"
     },
     "output_type": "display_data"
    }
   ],
   "source": [
    "fig, (ax1, ax2, ax3) = plt.subplots(figsize=(14,4), ncols=3)\n",
    "\n",
    "ax1.set_title('Linear Regression')\n",
    "ax1.scatter(df_rm.RM, df_rm.price, c='darkorange')\n",
    "# X_test에 따른 pred_lr을 선으로 그림\n",
    "ax1.plot(X_test, pred_lr, label='linear', linewidth=2)\n",
    "\n",
    "ax2.set_title('DecisionTree Regression : max_depth=2')\n",
    "ax2.scatter(df_rm.RM, df_rm.price, c='darkorange')\n",
    "ax2.plot(X_test, pred_rf2, label='max_depth:2', linewidth=2)\n",
    "\n",
    "ax3.set_title('DecisionTree Regression : max_depth=7')\n",
    "ax3.scatter(df_rm.RM, df_rm.price, c='darkorange')\n",
    "ax3.plot(X_test, pred_rf7, label='max_depth:7', linewidth=2)\n"
   ]
  }
 ],
 "metadata": {
  "kernelspec": {
   "display_name": "Python 3",
   "language": "python",
   "name": "python3"
  },
  "language_info": {
   "codemirror_mode": {
    "name": "ipython",
    "version": 3
   },
   "file_extension": ".py",
   "mimetype": "text/x-python",
   "name": "python",
   "nbconvert_exporter": "python",
   "pygments_lexer": "ipython3",
   "version": "3.8.8"
  }
 },
 "nbformat": 4,
 "nbformat_minor": 5
}
